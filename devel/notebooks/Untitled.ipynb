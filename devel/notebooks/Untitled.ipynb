{
 "cells": [
  {
   "cell_type": "code",
   "execution_count": 48,
   "metadata": {},
   "outputs": [],
   "source": [
    "import kachery_p2p as kp\n",
    "import kachery as ka\n",
    "import numpy as np"
   ]
  },
  {
   "cell_type": "code",
   "execution_count": 34,
   "metadata": {},
   "outputs": [
    {
     "name": "stdout",
     "output_type": "stream",
     "text": [
      "wheelData.mat\n",
      "whitening_mat.npy\n",
      "cluster_groups.csv\n",
      "stimInfo.mat\n",
      "Hopkins_20160722_g0_t0.imec.ap_CAR.bin\n",
      "template_features.npy\n",
      "amplitudes.npy\n",
      "spike_templates.npy\n",
      "template_feature_ind.npy\n",
      "Hopkins_20160722_g0_t0.imec.lf.meta\n",
      "script_plotRF.m\n",
      "miniDataset.zip\n",
      "templates.npy\n",
      "pc_features.npy\n",
      "channel_positions.npy\n",
      "spike_times.npy\n",
      "rawDataSample.bin\n",
      "forPRBimecP3opt3.mat\n",
      "similar_templates.npy\n",
      "spike_clusters.npy\n",
      "channel_map.npy\n",
      "master_file.m\n",
      "params.py\n",
      "Hopkins_20160722_g0_t0.imec.lf.bin\n",
      "pc_feature_ind.npy\n",
      "Hopkins_20160722_g0_t0.imec.ap.meta\n",
      "templates_ind.npy\n",
      "whitening_mat_inv.npy\n",
      "dataset.zip\n",
      "Hopkins_20160722_g0_t0.imec.lf_sync.dat\n"
     ]
    }
   ],
   "source": [
    "dirname = 'sha1dir://d40edb4e52ad5abef2c1689f7b04164fbf65271b.spike-sorting-conference-data'\n",
    "dd = kp.read_dir(dirname)\n",
    "for f in dd['files'].keys():\n",
    "    print(f)"
   ]
  },
  {
   "cell_type": "code",
   "execution_count": 92,
   "metadata": {},
   "outputs": [],
   "source": [
    "def _listify_ndarray(x):\n",
    "    if x.ndim == 1:\n",
    "        if np.issubdtype(x.dtype, np.integer):\n",
    "            return [int(val) for val in x]\n",
    "        else:\n",
    "            return [float(val) for val in x]\n",
    "    elif x.ndim == 2:\n",
    "        ret = []\n",
    "        for j in range(x.shape[1]):\n",
    "            ret.append(_listify_ndarray(x[:, j]))\n",
    "        return ret\n",
    "    elif x.ndim == 3:\n",
    "        ret = []\n",
    "        for j in range(x.shape[2]):\n",
    "            ret.append(_listify_ndarray(x[:, :, j]))\n",
    "        return ret\n",
    "    elif x.ndim == 4:\n",
    "        ret = []\n",
    "        for j in range(x.shape[3]):\n",
    "            ret.append(_listify_ndarray(x[:, :, :, j]))\n",
    "        return ret\n",
    "    else:\n",
    "        raise Exception('Cannot listify ndarray with {} dims.'.format(x.ndim))\n",
    "\n",
    "def create_recording_object(dirname, bin_fname, num_channels, samplerate):\n",
    "    dd = kp.read_dir(dirname)\n",
    "    bin_sha1 = dd['files'][bin_fname]['sha1']\n",
    "    bin_size = dd['files'][bin_fname]['size']\n",
    "    bin_uri = f'sha1://{bin_sha1}/raw.bin'\n",
    "    channel_map = kp.load_npy(dirname + '/channel_map.npy')\n",
    "    channel_positions = kp.load_npy(dirname + '/channel_positions.npy')\n",
    "    num_frames = int(bin_size / num_channels / 2)\n",
    "    assert num_frames * num_channels * 2 == bin_size, f'Unexpected size of bin file: {bin_size} <> {num_frames * num_channels * 2}'\n",
    "    return dict(\n",
    "        recording_format='bin1',\n",
    "        data=dict(\n",
    "            raw=bin_uri,\n",
    "            num_channels=num_channels,\n",
    "            num_frames=num_frames,\n",
    "            samplerate=samplerate,\n",
    "            channel_map=_listify_ndarray(channel_map.ravel()),\n",
    "            channel_positions=_listify_ndarray(channel_positions)\n",
    "        )\n",
    "    )\n",
    "\n",
    "obj = create_recording_object(\n",
    "    dirname='sha1dir://d40edb4e52ad5abef2c1689f7b04164fbf65271b.cortexlab-single-phase-3',\n",
    "    bin_fname='Hopkins_20160722_g0_t0.imec.ap_CAR.bin',\n",
    "    num_channels=385,\n",
    "    samplerate=30000\n",
    ")"
   ]
  },
  {
   "cell_type": "code",
   "execution_count": 114,
   "metadata": {},
   "outputs": [],
   "source": [
    "import spikeextractors as se\n",
    "class Bin1RecordingExtractor(se.RecordingExtractor):\n",
    "    extractor_name = 'Bin1RecordingExtractor'\n",
    "    is_writable = False\n",
    "    def __init__(self, *, raw, num_frames, num_channels, samplerate, channel_map, channel_positions):\n",
    "        se.RecordingExtractor.__init__(self)\n",
    "        \n",
    "        self._raw = raw\n",
    "        self._num_frames = num_frames\n",
    "        self._num_channels = num_channels\n",
    "        self._samplerate = samplerate\n",
    "        self._channel_map = np.array(channel_map)\n",
    "        self._channel_positions = np.array(channel_positions)\n",
    "        \n",
    "        self._channel_ids = np.arange(self._channel_positions.shape[1])\n",
    "        for id in self._channel_ids:\n",
    "            pos = self._channel_positions[:, id]\n",
    "            self.set_channel_property(id, 'location', [pos[0], pos[1]])\n",
    "\n",
    "    def get_channel_ids(self):\n",
    "        return self._channel_ids\n",
    "\n",
    "    def get_num_frames(self):\n",
    "        return self._num_frames\n",
    "\n",
    "    def get_sampling_frequency(self):\n",
    "        return self._samplerate\n",
    "\n",
    "    def get_traces(self, channel_ids=None, start_frame=None, end_frame=None):\n",
    "        if start_frame is None:\n",
    "            start_frame = 0\n",
    "        if end_frame is None:\n",
    "            end_frame = self._num_frames\n",
    "        if channel_ids is None:\n",
    "            channel_ids = self._channel_ids\n",
    "        M = len(channel_ids)\n",
    "        N = end_frame - start_frame\n",
    "        \n",
    "        i1 = start_frame * 2 * self._num_channels\n",
    "        i2 = end_frame * 2 * self._num_channels\n",
    "        \n",
    "        buf = kp.load_bytes(self._raw, start=i1, end=i2)\n",
    "        X = np.frombuffer(buf, dtype=np.int16).reshape((end_frame - start_frame, self._num_channels))\n",
    "        \n",
    "        ret = np.zeros((M, N))\n",
    "        for m in range(M):\n",
    "            ret[m, :] = X[:, self._channel_map[m]]\n",
    "        \n",
    "        return ret"
   ]
  },
  {
   "cell_type": "code",
   "execution_count": 115,
   "metadata": {},
   "outputs": [],
   "source": [
    "R = Bin1RecordingExtractor(\n",
    "    raw=obj['data']['raw'],\n",
    "    num_frames=obj['data']['num_frames'],\n",
    "    num_channels=obj['data']['num_channels'],\n",
    "    samplerate=obj['data']['samplerate'],\n",
    "    channel_map=obj['data']['channel_map'],\n",
    "    channel_positions=obj['data']['channel_positions']\n",
    ")"
   ]
  },
  {
   "cell_type": "code",
   "execution_count": 116,
   "metadata": {},
   "outputs": [
    {
     "data": {
      "text/plain": [
       "1.0482293333333332"
      ]
     },
     "execution_count": 116,
     "metadata": {},
     "output_type": "execute_result"
    }
   ],
   "source": [
    "R.get_num_frames() / R.get_sampling_frequency() / 60 / 60"
   ]
  },
  {
   "cell_type": "code",
   "execution_count": 117,
   "metadata": {},
   "outputs": [],
   "source": [
    "t = R.get_traces(channel_ids=[0, 1, 2], start_frame=0, end_frame=30000)"
   ]
  },
  {
   "cell_type": "code",
   "execution_count": null,
   "metadata": {},
   "outputs": [],
   "source": []
  },
  {
   "cell_type": "code",
   "execution_count": 101,
   "metadata": {},
   "outputs": [
    {
     "data": {
      "text/plain": [
       "(3, 150000)"
      ]
     },
     "execution_count": 101,
     "metadata": {},
     "output_type": "execute_result"
    }
   ],
   "source": [
    "t.shape"
   ]
  },
  {
   "cell_type": "code",
   "execution_count": 109,
   "metadata": {},
   "outputs": [
    {
     "data": {
      "image/png": "[encoded data removed]",
      "text/plain": [
       "<Figure size 432x288 with 1 Axes>"
      ]
     },
     "metadata": {
      "needs_background": "light"
     },
     "output_type": "display_data"
    }
   ],
   "source": [
    "from matplotlib import pyplot as plt\n",
    "plt.plot(t[0, 44000:47000].T);"
   ]
  },
  {
   "cell_type": "code",
   "execution_count": 43,
   "metadata": {},
   "outputs": [],
   "source": [
    "def load_1sec():\n",
    "    dirname = 'sha1dir://d40edb4e52ad5abef2c1689f7b04164fbf65271b.spike-sorting-conference-data'\n",
    "    raw_fname = dirname + '/Hopkins_20160722_g0_t0.imec.ap_CAR.bin'\n",
    "    samplerate = 30000\n",
    "    channel_map = kp.load_npy(dirname + '/channel_map.npy')\n",
    "    buf_1sec = kp.load_bytes(raw_fname, start=0, end=385 * 2 * samplerate * 1)\n",
    "    raw_1sec = np.frombuffer(buf_1sec, dtype=np.int16).reshape((samplerate, 385))\n",
    "    return raw_1sec, channel_map"
   ]
  },
  {
   "cell_type": "code",
   "execution_count": 44,
   "metadata": {},
   "outputs": [],
   "source": [
    "x, channel_map = load_1sec()"
   ]
  },
  {
   "cell_type": "code",
   "execution_count": 45,
   "metadata": {},
   "outputs": [
    {
     "data": {
      "text/plain": [
       "(374, 1)"
      ]
     },
     "execution_count": 45,
     "metadata": {},
     "output_type": "execute_result"
    }
   ],
   "source": [
    "channel_map.shape"
   ]
  },
  {
   "cell_type": "code",
   "execution_count": 17,
   "metadata": {},
   "outputs": [
    {
     "name": "stdout",
     "output_type": "stream",
     "text": [
      "Downloaded 6064 bytes in 0.5499560832977295 sec (0.010515532476720902 MB/sec)\n"
     ]
    }
   ],
   "source": [
    "x = kp.load_npy(dirname + '/channel_positions.npy')"
   ]
  },
  {
   "cell_type": "code",
   "execution_count": 118,
   "metadata": {},
   "outputs": [],
   "source": [
    "import spikewidgets as sw"
   ]
  },
  {
   "cell_type": "code",
   "execution_count": null,
   "metadata": {},
   "outputs": [],
   "source": []
  },
  {
   "cell_type": "code",
   "execution_count": 127,
   "metadata": {},
   "outputs": [
    {
     "data": {
      "text/plain": [
       "<spikewidgets.widgets.electrodegeometrywidget.electrodegeometrywidget.ElectrodeGeometryWidget at 0x7f9f78f94e90>"
      ]
     },
     "execution_count": 127,
     "metadata": {},
     "output_type": "execute_result"
    },
    {
     "data": {
      "image/png": "[encoded data removed]",
      "text/plain": [
       "<Figure size 504x1728 with 1 Axes>"
      ]
     },
     "metadata": {},
     "output_type": "display_data"
    }
   ],
   "source": [
    "plt.figure(figsize=(7, 24))\n",
    "sw.plot_electrode_geometry(ax=plt.gca(), recording=R)"
   ]
  },
  {
   "cell_type": "code",
   "execution_count": 125,
   "metadata": {},
   "outputs": [
    {
     "data": {
      "text/plain": [
       "12.0"
      ]
     },
     "execution_count": 125,
     "metadata": {},
     "output_type": "execute_result"
    }
   ],
   "source": [
    "384/32"
   ]
  },
  {
   "cell_type": "code",
   "execution_count": 20,
   "metadata": {},
   "outputs": [
    {
     "data": {
      "text/plain": [
       "{'size': 87170751360, 'sha1': '1b8592f0240603ae1019379cb47bad6475503aaf'}"
      ]
     },
     "execution_count": 20,
     "metadata": {},
     "output_type": "execute_result"
    }
   ],
   "source": [
    "dd['files']['Hopkins_20160722_g0_t0.imec.ap_CAR.bin']"
   ]
  },
  {
   "cell_type": "code",
   "execution_count": 26,
   "metadata": {},
   "outputs": [
    {
     "data": {
      "text/plain": [
       "87170751360"
      ]
     },
     "execution_count": 26,
     "metadata": {},
     "output_type": "execute_result"
    }
   ],
   "source": [
    "int(87170751360/385) * 385"
   ]
  },
  {
   "cell_type": "code",
   "execution_count": 24,
   "metadata": {},
   "outputs": [
    {
     "name": "stdout",
     "output_type": "stream",
     "text": [
      "dat_path = 'Hopkins_20160722_g0_t0.imec.ap_CAR.bin'\n",
      "n_channels_dat = 385\n",
      "dtype = 'int16'\n",
      "offset = 0\n",
      "sample_rate = 30000\n",
      "hp_filtered = False\n"
     ]
    }
   ],
   "source": [
    "print(kp.load_text(dirname + '/params.py'))"
   ]
  },
  {
   "cell_type": "code",
   "execution_count": 29,
   "metadata": {},
   "outputs": [],
   "source": [
    "a = kp.load_bytes(dirname + '/Hopkins_20160722_g0_t0.imec.ap_CAR.bin', start=0, end=385 * 1000)"
   ]
  },
  {
   "cell_type": "code",
   "execution_count": 31,
   "metadata": {},
   "outputs": [
    {
     "name": "stdout",
     "output_type": "stream",
     "text": [
      "385000\n"
     ]
    }
   ],
   "source": [
    "print(len(a))"
   ]
  },
  {
   "cell_type": "code",
   "execution_count": null,
   "metadata": {},
   "outputs": [],
   "source": []
  }
 ],
 "metadata": {
  "kernelspec": {
   "display_name": "Python 3",
   "language": "python",
   "name": "python3"
  },
  "language_info": {
   "codemirror_mode": {
    "name": "ipython",
    "version": 3
   },
   "file_extension": ".py",
   "mimetype": "text/x-python",
   "name": "python",
   "nbconvert_exporter": "python",
   "pygments_lexer": "ipython3",
   "version": "3.7.5"
  }
 },
 "nbformat": 4,
 "nbformat_minor": 4
}
